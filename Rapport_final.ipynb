{
 "cells": [
  {
   "cell_type": "markdown",
   "metadata": {},
   "source": [
    "<div style=\"width:100%;text-align: center;\">\n",
    "    <img src=\"https://www.logotheque-vectorielle.fr/wp-content/uploads/2022/12/logo-vectoriel-ensae-paris.jpg\" width=\"300\">\n",
    "<center><em></em></center>\n",
    "    Ecole Nationale de la Statistique et de l'Administration économique<br>ENSAE - Paris\n",
    "    <br>\n",
    "    <br>\n",
    "   ***************\n",
    "    <br>\n",
    "    <br>\n",
    "   <h1 style=\"text-align:center;color:Blue;font-family:algerian;font-size:35px;\">Projet de Python</h1>\n",
    "<h1 style=\"text-align:center;color:Blue;font-family:algerian;font-size:20px;\">PREDICTION DE LA METEO</h1>\n",
    "    <br>\n",
    "    <br>\n",
    "    ***************\n",
    "    <br>\n",
    "</div>\n",
    "\n",
    "<div style=\"width:100%;text-align: center;\">\n",
    "    <img src=\"https://c0.lestechnophiles.com/www.numerama.com/wp-content/uploads/2022/06/comparaison-2050-2022.jpg?resize=1024,576\" style=\"width:90%;height:100%;\" /> <br>\n",
    "    <span style=\"font-size:20px;\"><strong>PREDICTION DE LA METEO<br></strong></span>\n",
    "</div>\n",
    "    <br>\n",
    "    <br>\n",
    "<div style=\"display:flex;\">\n",
    "<div style=\"width:50%;text-align: left;\">\n",
    "   <span style=\"font-size:20px;\">\n",
    "       <strong>Présenté par </strong>: <br>\n",
    "            <br>\n",
    "           KUISSU CHEGAING Esthelle Paloma <br>\n",
    "           SANOGO Aissetou Fahmiya <br>\n",
    "           COMPRAORE Laureine Chérifa <br>\n",
    "\n",
    "</div>\n",
    "\n",
    "<div style=\"width:50%;text-align: right;\">\n",
    "   <span style=\"font-size:20px;\">\n",
    "       <strong>Sous l'encadrement de</strong> : <br>\n",
    "           Victor QUETU\n",
    "    </span>\n",
    "</div>\n",
    "</div>\n",
    "\n",
    "<div style=\"width:100%;text-align: center;\">\n",
    "<strong>Décembre 2024</strong>\n",
    "    </div>"
   ]
  },
  {
   "cell_type": "markdown",
   "metadata": {},
   "source": [
    "<div style=\"width: 80%; margin: auto; padding: 10px; background-color: #e6f2ff; border: 1px solid #ddd; border-radius: 8px;\">\n",
    "    <h2 style=\"text-align: center; color: #333; font-size: 24px; margin: 0; padding: 0;\">\n",
    "        <strong style=\"border-bottom: 4px solid #003366; padding-bottom: 5px;\">SOMMAIRE</strong>\n",
    "    </h2>\n",
    "</div>\n",
    "\n",
    "<div style=\"width: 80%; margin: auto; padding: 10px; background-color: #e6f2ff; border: 1px solid #ddd; border-radius: 8px;\">\n",
    "    <ul style=\"list-style-type: none; padding-left: 0;\">\n",
    "        <li><a href=\"#Introduction\" style=\"text-decoration: none; color: #0066cc;\">Introduction</a></li>\n",
    "        <li><a href=\"#Pré-requis\" style=\"text-decoration: none; color: #0066cc;\">Pré-requis\n",
    "            <ul>\n",
    "                <li><a href=\"#Objective\" style=\"text-decoration: none; color: #0066cc;\">Objectifs</a></li>\n",
    "                <li><a href=\"#Libraries\" style=\"text-decoration: none; color: #0066cc;\">Libraries</a>\n",
    "                    <ul>\n",
    "                        <li><a href=\"#Functions\" style=\"text-decoration: none; color: #0066cc;\">Functions (voir fichier Functions.py)</a></li>\n",
    "                    </ul>\n",
    "                </li>\n",
    "            </ul>\n",
    "        </li>\n",
    "        <li><a href=\"#I) Récupération de la base\" style=\"text-decoration: none; color: #0066cc;\">I) Récupération de la base\n",
    "            <ul>\n",
    "                <li>Présentation des variables de la base</li>\n",
    "            </ul>\n",
    "        </li>\n",
    "        <li><a href=\"#II) Analyse exploratoire et statistiques descriptives\" style=\"text-decoration: none; color: #0066cc;\">II) Analyse exploratoire et statistiques descriptives\n",
    "            <ul>\n",
    "                <li><a href=\"#A) Nettoyage de la base\" style=\"text-decoration: none; color: #0066cc;\">A) Nettoyage de la base\n",
    "                    <ul>\n",
    "                        <li>Affichage des données</li>\n",
    "                        <li>Suppression des doublons</li>\n",
    "                        <li>Représentation d'un heatmap de valeurs manquantes</li>\n",
    "                        <li>Suppression des variables dont toutes les valeurs étaient manquantes</li>\n",
    "                        <li>Conversion des types de variables (str en int)</li>\n",
    "                        <li>Mise de la variable DATE sous le format datetime</li>\n",
    "                        <li>Mise de la variable en index</li>\n",
    "                        <li>Imputation des variables manquantes (imputation par la médiane)</li>\n",
    "                    </ul>\n",
    "                </a></li>\n",
    "                <li><a href=\"#B) Statistiques descriptives\" style=\"text-decoration: none; color: #0066cc;\">B) Statistiques descriptives\n",
    "                    <ul>\n",
    "                        <li>Représentation des distributions et densité de chaque variable [suivie d'une interprétation]</li>\n",
    "                        <li>Identification des outliers et interprétations</li>\n",
    "                        <li>Heatmap de corrélation entre les variables [suivie d'une interprétation]</li>\n",
    "                        <li>Analyse en composante principale (ACP) [Interprétation et sortie des axes de composantes principales]</li>\n",
    "                    </ul>\n",
    "                </a></li>\n",
    "            </ul>\n",
    "        </li>\n",
    "        <li><a href=\"#III) Travail préliminaire et modélisation\" style=\"text-decoration: none; color: #0066cc;\">III) Travail préliminaire et modélisation\n",
    "            <ul>\n",
    "                <li>A) Modélisation en utilisant les séries temporelles</li>\n",
    "                <li>B) Modélisation en utilisant le réseau de neurones</li>\n",
    "                <li>C) Modélisation en utilisant la régression linéaire</li>\n",
    "                <li>D) La régression en utilisant Random Forest</li>\n",
    "                <li>E) Comparaison des modèles</li>\n",
    "            </ul>\n",
    "        </a></li>\n",
    "        <li><a href=\"#Conclusion\" style=\"text-decoration: none; color: #0066cc;\">Conclusion</a></li>\n",
    "        <li><a href=\"#Limites et perspectives\" style=\"text-decoration: none; color: #0066cc;\">Limites et perspectives</a></li>\n",
    "        <li><a href=\"#Reférences\" style=\"text-decoration: none; color: #0066cc;\">Reférences</a></li>\n",
    "    </ul>\n",
    "</div>\n",
    "\n"
   ]
  },
  {
   "cell_type": "markdown",
   "metadata": {},
   "source": [
    "<div style=\"width: 80%; margin: auto; padding: 20px; background-color: #ffffff; border-radius: 10px; box-shadow: 0 4px 10px rgba(0, 0, 0, 0.1); font-family: 'Times New Roman', serif;\">\n",
    "    <h1 style=\"text-align; color: blue; font-size: 32px; font-weight: bold; margin-bottom: 15px; text-transform: uppercase; letter-spacing: 1px;\">Pré-requis</h1>"
   ]
  },
  {
   "cell_type": "markdown",
   "metadata": {},
   "source": [
    "<div style=\"width: 80%; margin: auto; padding: 20px; background-color: #ffffff; border-radius: 10px; box-shadow: 0 4px 10px rgba(0, 0, 0, 0.1); font-family: 'Times New Roman', serif;\">\n",
    "    <h2 style=\"text-align: center; color: #2c3e50; font-size: 32px; font-weight: bold; margin-bottom: 15px; text-transform: uppercase; letter-spacing: 1px;\">Prédiction Météo en France</h2>\n",
    "    <p style=\"font-size: 18px; line-height: 1.8; color: #34495e;\">\n",
    "        La prévision météorologique en France est un enjeu crucial qui impacte notre quotidien. En anticipant les conditions climatiques, elle permet non seulement de planifier nos activités, mais aussi de protéger les vies et les biens face aux événements extrêmes.\n",
    "    </p>\n",
    "    <p style=\"font-size: 18px; line-height: 1.8; color: #34495e;\">\n",
    "        Grâce à des outils de pointe comme les modèles numériques de Météo-France, nous avons accès à des prévisions de plus en plus précises. Dans un contexte de changement climatique, où les phénomènes météorologiques deviennent plus fréquents et intenses, la capacité à prévoir le temps est essentielle pour s'adapter et prendre des décisions éclairées.\n",
    "    </p>\n",
    "    <p style=\"font-size: 18px; line-height: 1.8; color: #34495e;\">\n",
    "        En somme, comprendre la météo, c'est se donner les moyens d'affronter l'avenir avec sérénité.\n",
    "    </p>\n",
    "</div>\n",
    "\n",
    "<style>\n",
    "    @import url('https://fonts.googleapis.com/css2?family=Playfair+Display:wght@700&family=Roboto:wght@400&display=swap');\n",
    "\n",
    "    body {\n",
    "        font-family: 'Roboto', sans-serif;\n",
    "    }\n",
    "\n",
    "    h2 {\n",
    "        font-family: 'Playfair Display', serif;\n",
    "        color: #2c3e50;\n",
    "    }\n",
    "</style>\n"
   ]
  },
  {
   "cell_type": "markdown",
   "metadata": {},
   "source": [
    "<div style=\"width: 80%; margin: auto; padding: 20px; background-color: #f0f8ff; border-radius: 10px; box-shadow: 0 4px 10px rgba(0, 0, 0, 0.1);\">\n",
    "    <h2 style=\"text-align: center; color: #2c3e50; font-size: 28px; font-family: 'Comic Sans MS', cursive;\">🌤️ Objectifs du Projet de Prédiction Météo 🌧️</h2>\n",
    "\n",
    "<p style=\"font-size: 18px; line-height: 1.8; color: #34495e;\">\n",
    "    <strong>1. Prévoir le Temps :</strong> <br>\n",
    "    Fournir des prévisions météorologiques précises pour aider les gens à planifier leurs activités quotidiennes.\n",
    "</p>\n",
    "\n",
    "\n",
    "<p style=\"font-size: 18px; line-height: 1.8; color: #34495e;\">\n",
    "        <strong>2.Alerter sur les Phénomènes Extrêmes :</strong> <br> \n",
    "Informer rapidement le public sur les alertes météo, comme les tempêtes ou les vagues de chaleur, pour assurer la sécurité.\n",
    "    </p>  \n",
    "\n",
    "<p style=\"font-size: 18px; line-height: 1.8; color: #34495e;\">\n",
    "        <strong>3.Soutenir les Décisions :</strong> <br>  \n",
    "Aider les entreprises et les collectivités à prendre des décisions éclairées basées sur les prévisions météorologiques.\n",
    "    </p>  \n",
    "    \n",
    "</style>\n"
   ]
  },
  {
   "cell_type": "markdown",
   "metadata": {},
   "source": [
    "<div style=\"width: 80%; margin: auto; padding: 20px; background-color: #f0f8ff; border-radius: 10px; box-shadow: 0 4px 10px rgba(0, 0, 0, 0.1);\">\n",
    "    <h2 style=\"text-align: center; color: #2c3e50; font-size: 28px; font-family: 'Comic Sans MS', cursive;\"> Librairies </h2>"
   ]
  },
  {
   "cell_type": "markdown",
   "metadata": {},
   "source": [
    "<div style=\"width: 80%; margin: auto; padding: 20px; background-color: #ffffff; border-radius: 10px; box-shadow: 0 4px 10px rgba(0, 0, 0, 0.1); font-family: 'Times New Roman', serif;\">\n",
    "    <h1 style=\"text-align; color: blue; font-size: 32px; font-weight: bold; margin-bottom: 15px; text-transform: uppercase; letter-spacing: 1px;\">I) Récupération de la base</h1>"
   ]
  },
  {
   "cell_type": "markdown",
   "metadata": {},
   "source": [
    "<div style=\"width: 80%; margin: auto; padding: 20px; background-color: #ffffff; border-radius: 10px; box-shadow: 0 4px 10px rgba(0, 0, 0, 0.1); font-family: 'Times New Roman', serif;\">\n",
    "    <h1 style=\"text-align; color: blue; font-size: 32px; font-weight: bold; margin-bottom: 15px; text-transform: uppercase; letter-spacing: 1px;\">II) Analyse exploratoire et statistiques descriptives</h1>"
   ]
  },
  {
   "cell_type": "markdown",
   "metadata": {},
   "source": []
  },
  {
   "cell_type": "markdown",
   "metadata": {},
   "source": [
    "<div style=\"width: 80%; margin: auto; padding: 20px; background-color: #ffffff; border-radius: 10px; box-shadow: 0 4px 10px rgba(0, 0, 0, 0.1); font-family: 'Times New Roman', serif;\">\n",
    "    <h1 style=\"text-align; color: blue; font-size: 32px; font-weight: bold; margin-bottom: 15px; text-transform: uppercase; letter-spacing: 1px;\">III) Travail préliminaire et modélisation</h1>"
   ]
  },
  {
   "cell_type": "markdown",
   "metadata": {},
   "source": [
    "ggggg"
   ]
  }
 ],
 "metadata": {
  "language_info": {
   "name": "python"
  }
 },
 "nbformat": 4,
 "nbformat_minor": 2
}
