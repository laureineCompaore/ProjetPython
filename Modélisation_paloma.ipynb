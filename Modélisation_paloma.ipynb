{
 "cells": [
  {
   "cell_type": "markdown",
   "metadata": {},
   "source": [
    "# 1) Modélisation en utilisant les séries temporelles"
   ]
  },
  {
   "cell_type": "code",
   "execution_count": 1,
   "metadata": {},
   "outputs": [],
   "source": [
    "import pandas as pd\n",
    "from sklearn.preprocessing import StandardScaler\n",
    "import matplotlib.pyplot as plt\n",
    "import seaborn as sns\n",
    "from statsmodels.graphics.tsaplots import plot_acf, plot_pacf"
   ]
  },
  {
   "cell_type": "code",
   "execution_count": 3,
   "metadata": {},
   "outputs": [],
   "source": [
    "# Chemin du fichier CSV\n",
    "chemin_fichier = './base.csv'  # Remplacez par le chemin réel\n",
    "\n",
    "# Charger le fichier CSV dans un DataFrame\n",
    "df = pd.read_csv(chemin_fichier)"
   ]
  },
  {
   "cell_type": "code",
   "execution_count": 4,
   "metadata": {},
   "outputs": [
    {
     "data": {
      "text/html": [
       "<div>\n",
       "<style scoped>\n",
       "    .dataframe tbody tr th:only-of-type {\n",
       "        vertical-align: middle;\n",
       "    }\n",
       "\n",
       "    .dataframe tbody tr th {\n",
       "        vertical-align: top;\n",
       "    }\n",
       "\n",
       "    .dataframe thead th {\n",
       "        text-align: right;\n",
       "    }\n",
       "</style>\n",
       "<table border=\"1\" class=\"dataframe\">\n",
       "  <thead>\n",
       "    <tr style=\"text-align: right;\">\n",
       "      <th></th>\n",
       "      <th>DATE</th>\n",
       "      <th>RR</th>\n",
       "      <th>TN</th>\n",
       "      <th>HTN</th>\n",
       "      <th>TX</th>\n",
       "      <th>HTX</th>\n",
       "      <th>TM</th>\n",
       "      <th>TMNX</th>\n",
       "      <th>DG</th>\n",
       "      <th>TAMPLI</th>\n",
       "      <th>...</th>\n",
       "      <th>HUN</th>\n",
       "      <th>UX</th>\n",
       "      <th>HUX</th>\n",
       "      <th>DHUMI40</th>\n",
       "      <th>DHUMI80</th>\n",
       "      <th>TSVM</th>\n",
       "      <th>UM</th>\n",
       "      <th>ETPGRILLE</th>\n",
       "      <th>NEIGETOTX</th>\n",
       "      <th>NEIGETOT06</th>\n",
       "    </tr>\n",
       "  </thead>\n",
       "  <tbody>\n",
       "    <tr>\n",
       "      <th>0</th>\n",
       "      <td>2022-01-05</td>\n",
       "      <td>2.6</td>\n",
       "      <td>-0.4</td>\n",
       "      <td>1759.0</td>\n",
       "      <td>3.4</td>\n",
       "      <td>1217.0</td>\n",
       "      <td>0.9</td>\n",
       "      <td>1.50</td>\n",
       "      <td>389.0</td>\n",
       "      <td>3.8</td>\n",
       "      <td>...</td>\n",
       "      <td>1244.0</td>\n",
       "      <td>99.0</td>\n",
       "      <td>329.0</td>\n",
       "      <td>0.0</td>\n",
       "      <td>1157.0</td>\n",
       "      <td>5.7</td>\n",
       "      <td>88.0</td>\n",
       "      <td>0.4</td>\n",
       "      <td>0.0</td>\n",
       "      <td>0.0</td>\n",
       "    </tr>\n",
       "    <tr>\n",
       "      <th>1</th>\n",
       "      <td>2022-01-06</td>\n",
       "      <td>0.0</td>\n",
       "      <td>-2.5</td>\n",
       "      <td>1746.0</td>\n",
       "      <td>4.3</td>\n",
       "      <td>1327.0</td>\n",
       "      <td>-0.6</td>\n",
       "      <td>0.90</td>\n",
       "      <td>964.0</td>\n",
       "      <td>6.8</td>\n",
       "      <td>...</td>\n",
       "      <td>1032.0</td>\n",
       "      <td>99.0</td>\n",
       "      <td>2304.0</td>\n",
       "      <td>0.0</td>\n",
       "      <td>1043.0</td>\n",
       "      <td>5.1</td>\n",
       "      <td>88.0</td>\n",
       "      <td>0.6</td>\n",
       "      <td>0.0</td>\n",
       "      <td>0.0</td>\n",
       "    </tr>\n",
       "    <tr>\n",
       "      <th>2</th>\n",
       "      <td>2022-01-07</td>\n",
       "      <td>10.0</td>\n",
       "      <td>-6.9</td>\n",
       "      <td>718.0</td>\n",
       "      <td>1.6</td>\n",
       "      <td>2229.0</td>\n",
       "      <td>-1.2</td>\n",
       "      <td>-2.65</td>\n",
       "      <td>674.0</td>\n",
       "      <td>8.5</td>\n",
       "      <td>...</td>\n",
       "      <td>708.0</td>\n",
       "      <td>99.0</td>\n",
       "      <td>126.0</td>\n",
       "      <td>0.0</td>\n",
       "      <td>1440.0</td>\n",
       "      <td>5.4</td>\n",
       "      <td>96.0</td>\n",
       "      <td>0.0</td>\n",
       "      <td>0.0</td>\n",
       "      <td>0.0</td>\n",
       "    </tr>\n",
       "    <tr>\n",
       "      <th>3</th>\n",
       "      <td>2022-01-08</td>\n",
       "      <td>13.2</td>\n",
       "      <td>-0.7</td>\n",
       "      <td>733.0</td>\n",
       "      <td>6.3</td>\n",
       "      <td>2319.0</td>\n",
       "      <td>2.4</td>\n",
       "      <td>2.80</td>\n",
       "      <td>87.0</td>\n",
       "      <td>7.0</td>\n",
       "      <td>...</td>\n",
       "      <td>1403.0</td>\n",
       "      <td>99.0</td>\n",
       "      <td>618.0</td>\n",
       "      <td>0.0</td>\n",
       "      <td>1231.0</td>\n",
       "      <td>6.4</td>\n",
       "      <td>89.0</td>\n",
       "      <td>0.5</td>\n",
       "      <td>0.0</td>\n",
       "      <td>0.0</td>\n",
       "    </tr>\n",
       "    <tr>\n",
       "      <th>4</th>\n",
       "      <td>2022-01-09</td>\n",
       "      <td>7.6</td>\n",
       "      <td>0.4</td>\n",
       "      <td>737.0</td>\n",
       "      <td>2.2</td>\n",
       "      <td>601.0</td>\n",
       "      <td>1.8</td>\n",
       "      <td>1.30</td>\n",
       "      <td>0.0</td>\n",
       "      <td>1.8</td>\n",
       "      <td>...</td>\n",
       "      <td>3.0</td>\n",
       "      <td>98.0</td>\n",
       "      <td>745.0</td>\n",
       "      <td>0.0</td>\n",
       "      <td>1440.0</td>\n",
       "      <td>6.5</td>\n",
       "      <td>94.0</td>\n",
       "      <td>0.1</td>\n",
       "      <td>0.0</td>\n",
       "      <td>0.0</td>\n",
       "    </tr>\n",
       "  </tbody>\n",
       "</table>\n",
       "<p>5 rows × 31 columns</p>\n",
       "</div>"
      ],
      "text/plain": [
       "         DATE    RR   TN     HTN   TX     HTX   TM  TMNX     DG  TAMPLI  ...  \\\n",
       "0  2022-01-05   2.6 -0.4  1759.0  3.4  1217.0  0.9  1.50  389.0     3.8  ...   \n",
       "1  2022-01-06   0.0 -2.5  1746.0  4.3  1327.0 -0.6  0.90  964.0     6.8  ...   \n",
       "2  2022-01-07  10.0 -6.9   718.0  1.6  2229.0 -1.2 -2.65  674.0     8.5  ...   \n",
       "3  2022-01-08  13.2 -0.7   733.0  6.3  2319.0  2.4  2.80   87.0     7.0  ...   \n",
       "4  2022-01-09   7.6  0.4   737.0  2.2   601.0  1.8  1.30    0.0     1.8  ...   \n",
       "\n",
       "      HUN    UX     HUX  DHUMI40  DHUMI80  TSVM    UM  ETPGRILLE  NEIGETOTX  \\\n",
       "0  1244.0  99.0   329.0      0.0   1157.0   5.7  88.0        0.4        0.0   \n",
       "1  1032.0  99.0  2304.0      0.0   1043.0   5.1  88.0        0.6        0.0   \n",
       "2   708.0  99.0   126.0      0.0   1440.0   5.4  96.0        0.0        0.0   \n",
       "3  1403.0  99.0   618.0      0.0   1231.0   6.4  89.0        0.5        0.0   \n",
       "4     3.0  98.0   745.0      0.0   1440.0   6.5  94.0        0.1        0.0   \n",
       "\n",
       "   NEIGETOT06  \n",
       "0         0.0  \n",
       "1         0.0  \n",
       "2         0.0  \n",
       "3         0.0  \n",
       "4         0.0  \n",
       "\n",
       "[5 rows x 31 columns]"
      ]
     },
     "execution_count": 4,
     "metadata": {},
     "output_type": "execute_result"
    }
   ],
   "source": [
    "df.head()"
   ]
  },
  {
   "cell_type": "code",
   "execution_count": 5,
   "metadata": {},
   "outputs": [
    {
     "name": "stdout",
     "output_type": "stream",
     "text": [
      "              RR   TN     HTN   TX     HTX   TM  TMNX     DG  TAMPLI  TNTXM  \\\n",
      "DATE                                                                          \n",
      "2022-01-05   2.6 -0.4  1759.0  3.4  1217.0  0.9  1.50  389.0     3.8    1.5   \n",
      "2022-01-06   0.0 -2.5  1746.0  4.3  1327.0 -0.6  0.90  964.0     6.8    0.9   \n",
      "2022-01-07  10.0 -6.9   718.0  1.6  2229.0 -1.2 -2.65  674.0     8.5   -2.7   \n",
      "2022-01-08  13.2 -0.7   733.0  6.3  2319.0  2.4  2.80   87.0     7.0    2.8   \n",
      "2022-01-09   7.6  0.4   737.0  2.2   601.0  1.8  1.30    0.0     1.8    1.3   \n",
      "\n",
      "            ...     HUN    UX     HUX  DHUMI40  DHUMI80  TSVM    UM  \\\n",
      "DATE        ...                                                       \n",
      "2022-01-05  ...  1244.0  99.0   329.0      0.0   1157.0   5.7  88.0   \n",
      "2022-01-06  ...  1032.0  99.0  2304.0      0.0   1043.0   5.1  88.0   \n",
      "2022-01-07  ...   708.0  99.0   126.0      0.0   1440.0   5.4  96.0   \n",
      "2022-01-08  ...  1403.0  99.0   618.0      0.0   1231.0   6.4  89.0   \n",
      "2022-01-09  ...     3.0  98.0   745.0      0.0   1440.0   6.5  94.0   \n",
      "\n",
      "            ETPGRILLE  NEIGETOTX  NEIGETOT06  \n",
      "DATE                                          \n",
      "2022-01-05        0.4        0.0         0.0  \n",
      "2022-01-06        0.6        0.0         0.0  \n",
      "2022-01-07        0.0        0.0         0.0  \n",
      "2022-01-08        0.5        0.0         0.0  \n",
      "2022-01-09        0.1        0.0         0.0  \n",
      "\n",
      "[5 rows x 30 columns]\n",
      "<class 'pandas.core.indexes.base.Index'>\n"
     ]
    }
   ],
   "source": [
    "# Définir la colonne 'Date' comme index\n",
    "df.set_index('DATE', inplace=True)\n",
    "\n",
    "# Vérifier les 5 premières lignes\n",
    "print(df.head())\n",
    "\n",
    "# Vérifier le type de l'index\n",
    "print(type(df.index))"
   ]
  },
  {
   "cell_type": "code",
   "execution_count": 6,
   "metadata": {},
   "outputs": [
    {
     "name": "stdout",
     "output_type": "stream",
     "text": [
      "                  RR        TN       HTN        TX       HTX        TM  \\\n",
      "DATE                                                                     \n",
      "2022-01-05 -0.145556 -0.875833  1.400018 -1.730651 -0.406054 -1.480934   \n",
      "2022-01-06 -0.510261 -1.193486  1.381189 -1.626404  0.071772 -1.689355   \n",
      "2022-01-07  0.892453 -1.859045 -0.107733 -1.939145  3.989946 -1.772723   \n",
      "2022-01-08  1.341321 -0.921212 -0.086008 -1.394744  4.380895 -1.272512   \n",
      "2022-01-09  0.555801 -0.754822 -0.080214 -1.869647 -3.081881 -1.355881   \n",
      "\n",
      "                TMNX        DG    TAMPLI     TNTXM  ...       HUN        UX  \\\n",
      "DATE                                                ...                       \n",
      "2022-01-05 -1.464224  0.834364 -1.524584 -1.466111  ... -0.020220  0.423007   \n",
      "2022-01-06 -1.549044  2.707071 -1.024689 -1.550864  ... -0.573653  0.423007   \n",
      "2022-01-07 -2.050895  1.762575 -0.741414 -2.059388  ... -1.419465  0.423007   \n",
      "2022-01-08 -1.280447 -0.149214 -0.991362 -1.282477  ...  0.394854  0.423007   \n",
      "2022-01-09 -1.492497 -0.432563 -1.857848 -1.494362  ... -3.259889  0.232644   \n",
      "\n",
      "                 HUX   DHUMI40   DHUMI80      TSVM        UM  ETPGRILLE  \\\n",
      "DATE                                                                      \n",
      "2022-01-05 -0.520902 -0.488202  0.955055 -1.257163  0.900249  -1.123470   \n",
      "2022-01-06  2.112030 -0.488202  0.634599 -1.407510  0.900249  -1.009353   \n",
      "2022-01-07 -0.791527 -0.488202  1.750573 -1.332336  1.563830  -1.351704   \n",
      "2022-01-08 -0.135627 -0.488202  1.163070 -1.081757  0.983197  -1.066412   \n",
      "2022-01-09  0.033680 -0.488202  1.750573 -1.056699  1.397935  -1.294645   \n",
      "\n",
      "            NEIGETOTX  NEIGETOT06  \n",
      "DATE                               \n",
      "2022-01-05  -0.136106   -0.124371  \n",
      "2022-01-06  -0.136106   -0.124371  \n",
      "2022-01-07  -0.136106   -0.124371  \n",
      "2022-01-08  -0.136106   -0.124371  \n",
      "2022-01-09  -0.136106   -0.124371  \n",
      "\n",
      "[5 rows x 30 columns]\n"
     ]
    }
   ],
   "source": [
    "# Initialiser le scaler\n",
    "scaler = StandardScaler()\n",
    "\n",
    "# Centrer et réduire toutes les colonnes (puisque toutes sont numériques)\n",
    "df_standardise = pd.DataFrame(\n",
    "    scaler.fit_transform(df), \n",
    "    index=df.index,  # Conserver l'index d'origine (DATE)\n",
    "    columns=df.columns  # Conserver les noms des colonnes\n",
    ")\n",
    "\n",
    "# Afficher les premières lignes des données transformées\n",
    "print(df_standardise.head())\n",
    "\n"
   ]
  },
  {
   "cell_type": "markdown",
   "metadata": {},
   "source": [
    "## 1)Test de stationnarité"
   ]
  },
  {
   "cell_type": "markdown",
   "metadata": {},
   "source": [
    "### a) Représentation de la variable cible"
   ]
  },
  {
   "cell_type": "code",
   "execution_count": 7,
   "metadata": {},
   "outputs": [
    {
     "data": {
      "text/plain": [
       "<Axes: xlabel='DATE', ylabel='TM'>"
      ]
     },
     "execution_count": 7,
     "metadata": {},
     "output_type": "execute_result"
    },
    {
     "data": {
      "image/png": "[encoded data removed]",
      "text/plain": [
       "<Figure size 640x480 with 1 Axes>"
      ]
     },
     "metadata": {},
     "output_type": "display_data"
    }
   ],
   "source": [
    "sns.lineplot(data=df_standardise, x=df_standardise.index, y=df_standardise.TM)"
   ]
  },
  {
   "cell_type": "markdown",
   "metadata": {},
   "source": [
    "### b) Test proprement dit"
   ]
  },
  {
   "cell_type": "code",
   "execution_count": 8,
   "metadata": {},
   "outputs": [
    {
     "name": "stdout",
     "output_type": "stream",
     "text": [
      "                            OLS Regression Results                            \n",
      "==============================================================================\n",
      "Dep. Variable:                     TM   R-squared:                       0.034\n",
      "Model:                            OLS   Adj. R-squared:                  0.032\n",
      "Method:                 Least Squares   F-statistic:                     18.01\n",
      "Date:                Wed, 25 Dec 2024   Prob (F-statistic):           2.05e-08\n",
      "Time:                        20:25:02   Log-Likelihood:                -395.16\n",
      "No. Observations:                1021   AIC:                             796.3\n",
      "Df Residuals:                    1018   BIC:                             811.1\n",
      "Df Model:                           2                                         \n",
      "Covariance Type:            nonrobust                                         \n",
      "==============================================================================\n",
      "                 coef    std err          t      P>|t|      [0.025      0.975]\n",
      "------------------------------------------------------------------------------\n",
      "const         -0.0099      0.022     -0.442      0.658      -0.054       0.034\n",
      "Xt-1          -0.0676      0.011     -5.996      0.000      -0.090      -0.045\n",
      "tendance    2.181e-05   3.83e-05      0.570      0.569   -5.33e-05    9.69e-05\n",
      "==============================================================================\n",
      "Omnibus:                       17.531   Durbin-Watson:                   1.893\n",
      "Prob(Omnibus):                  0.000   Jarque-Bera (JB):               31.474\n",
      "Skew:                          -0.039   Prob(JB):                     1.46e-07\n",
      "Kurtosis:                       3.857   Cond. No.                     1.19e+03\n",
      "==============================================================================\n",
      "\n",
      "Notes:\n",
      "[1] Standard Errors assume that the covariance matrix of the errors is correctly specified.\n",
      "[2] The condition number is large, 1.19e+03. This might indicate that there are\n",
      "strong multicollinearity or other numerical problems.\n"
     ]
    }
   ],
   "source": [
    "import pandas as pd\n",
    "import statsmodels.api as sm\n",
    "from statsmodels.tsa.stattools import adfuller\n",
    "\n",
    "# Supposons que df_standardise est déjà défini et contient la colonne 'TM'\n",
    "tm = df_standardise['TM']\n",
    "\n",
    "import pandas as pd\n",
    "import statsmodels.api as sm\n",
    "\n",
    "def regresser_modele_3(series):\n",
    "    \"\"\"\n",
    "    Ajuste le modèle 3′ : ∆Xt = ϕXt−1 + λ + δt + εt.\n",
    "    \n",
    "    Arguments :\n",
    "    - series : pd.Series, la série temporelle à modéliser.\n",
    "    \n",
    "    Retourne :\n",
    "    - Résultats du modèle ajusté.\n",
    "    \"\"\"\n",
    "    try:\n",
    "        # Calculer ∆Xt (différences premières de la série)\n",
    "        delta_Xt = series.diff().dropna()\n",
    "        \n",
    "        # Construire les variables explicatives :\n",
    "        # - Xt-1 : Décalage de la série originale\n",
    "        # - tendance : série croissante 0, 1, 2, ...\n",
    "        Xt_minus_1 = series.shift(1).dropna()\n",
    "        tendance = range(len(delta_Xt))\n",
    "        \n",
    "        # Créer le DataFrame des variables explicatives\n",
    "        X = pd.DataFrame({\"Xt-1\": Xt_minus_1, \"tendance\": tendance})\n",
    "        X = sm.add_constant(X)  # Ajouter la constante λ\n",
    "        \n",
    "        # Ajuster le modèle avec OLS (moindres carrés ordinaires)\n",
    "        model = sm.OLS(delta_Xt, X).fit()\n",
    "        \n",
    "        # Afficher le résumé des résultats\n",
    "        print(model.summary())\n",
    "        return model\n",
    "    except Exception as e:\n",
    "        print(f\"Erreur lors de la régression : {e}\")\n",
    "        return None\n",
    "\n",
    "# Ajuster le modèle 3′\n",
    "resultat = regresser_modele_3(tm)\n",
    "\n"
   ]
  },
  {
   "cell_type": "markdown",
   "metadata": {},
   "source": [
    "On constate que la tendance n'est pas significative. Alors, nous allons passer au modèle 2 avec constante uniquement."
   ]
  },
  {
   "cell_type": "code",
   "execution_count": 9,
   "metadata": {},
   "outputs": [
    {
     "name": "stdout",
     "output_type": "stream",
     "text": [
      "                            OLS Regression Results                            \n",
      "==============================================================================\n",
      "Dep. Variable:                     TM   R-squared:                       0.034\n",
      "Model:                            OLS   Adj. R-squared:                  0.033\n",
      "Method:                 Least Squares   F-statistic:                     35.73\n",
      "Date:                Wed, 25 Dec 2024   Prob (F-statistic):           3.13e-09\n",
      "Time:                        20:44:32   Log-Likelihood:                -395.32\n",
      "No. Observations:                1021   AIC:                             794.6\n",
      "Df Residuals:                    1019   BIC:                             804.5\n",
      "Df Model:                           1                                         \n",
      "Covariance Type:            nonrobust                                         \n",
      "==============================================================================\n",
      "                 coef    std err          t      P>|t|      [0.025      0.975]\n",
      "------------------------------------------------------------------------------\n",
      "const          0.0012      0.011      0.105      0.916      -0.021       0.023\n",
      "Xt-1          -0.0667      0.011     -5.977      0.000      -0.089      -0.045\n",
      "==============================================================================\n",
      "Omnibus:                       17.592   Durbin-Watson:                   1.894\n",
      "Prob(Omnibus):                  0.000   Jarque-Bera (JB):               31.767\n",
      "Skew:                          -0.032   Prob(JB):                     1.26e-07\n",
      "Kurtosis:                       3.862   Cond. No.                         1.00\n",
      "==============================================================================\n",
      "\n",
      "Notes:\n",
      "[1] Standard Errors assume that the covariance matrix of the errors is correctly specified.\n"
     ]
    }
   ],
   "source": [
    "import pandas as pd\n",
    "import statsmodels.api as sm\n",
    "\n",
    "def regresser_modele_2(series):\n",
    "    \"\"\"\n",
    "    Ajuste le modèle 2′ : ∆Xt = ϕXt−1 + λ + εt.\n",
    "    \n",
    "    Arguments :\n",
    "    - series : pd.Series, la série temporelle à modéliser.\n",
    "    \n",
    "    Retourne :\n",
    "    - Résultats du modèle ajusté.\n",
    "    \"\"\"\n",
    "    try:\n",
    "        # Calculer ∆Xt (différences premières de la série)\n",
    "        delta_Xt = series.diff().dropna()\n",
    "        \n",
    "        # Construire les variables explicatives :\n",
    "        # - Xt-1 : Décalage de la série originale\n",
    "        Xt_minus_1 = series.shift(1).dropna()\n",
    "        \n",
    "        # Créer le DataFrame des variables explicatives\n",
    "        X = pd.DataFrame({\"Xt-1\": Xt_minus_1})\n",
    "        X = sm.add_constant(X)  # Ajouter la constante λ\n",
    "        \n",
    "        # Ajuster le modèle avec OLS (moindres carrés ordinaires)\n",
    "        model = sm.OLS(delta_Xt, X).fit()\n",
    "        \n",
    "        # Afficher le résumé des résultats\n",
    "        print(model.summary())\n",
    "        return model\n",
    "    except Exception as e:\n",
    "        print(f\"Erreur lors de la régression : {e}\")\n",
    "        return None\n",
    "\n",
    "# Exemple d'utilisation\n",
    "import numpy as np\n",
    "\n",
    "# Ajuster le modèle 2′\n",
    "resultat = regresser_modele_2(tm)\n"
   ]
  },
  {
   "cell_type": "markdown",
   "metadata": {},
   "source": [
    "On constate que la constante n'est pas significative. Alors, nous allons passer au modèle 2 sans constante."
   ]
  },
  {
   "cell_type": "code",
   "execution_count": 11,
   "metadata": {},
   "outputs": [
    {
     "name": "stdout",
     "output_type": "stream",
     "text": [
      "                                 OLS Regression Results                                \n",
      "=======================================================================================\n",
      "Dep. Variable:                     TM   R-squared (uncentered):                   0.034\n",
      "Model:                            OLS   Adj. R-squared (uncentered):              0.033\n",
      "Method:                 Least Squares   F-statistic:                              35.76\n",
      "Date:                Wed, 25 Dec 2024   Prob (F-statistic):                    3.08e-09\n",
      "Time:                        20:52:51   Log-Likelihood:                         -395.33\n",
      "No. Observations:                1021   AIC:                                      792.7\n",
      "Df Residuals:                    1020   BIC:                                      797.6\n",
      "Df Model:                           1                                                  \n",
      "Covariance Type:            nonrobust                                                  \n",
      "==============================================================================\n",
      "                 coef    std err          t      P>|t|      [0.025      0.975]\n",
      "------------------------------------------------------------------------------\n",
      "Xt-1          -0.0667      0.011     -5.980      0.000      -0.089      -0.045\n",
      "==============================================================================\n",
      "Omnibus:                       17.592   Durbin-Watson:                   1.894\n",
      "Prob(Omnibus):                  0.000   Jarque-Bera (JB):               31.767\n",
      "Skew:                          -0.032   Prob(JB):                     1.26e-07\n",
      "Kurtosis:                       3.862   Cond. No.                         1.00\n",
      "==============================================================================\n",
      "\n",
      "Notes:\n",
      "[1] R² is computed without centering (uncentered) since the model does not contain a constant.\n",
      "[2] Standard Errors assume that the covariance matrix of the errors is correctly specified.\n"
     ]
    }
   ],
   "source": [
    "import pandas as pd\n",
    "import statsmodels.api as sm\n",
    "\n",
    "def regresser_modele_1(series):\n",
    "    \"\"\"\n",
    "    Ajuste le modèle 1′ : ∆Xt = ϕXt−1 + εt (sans constante).\n",
    "    \n",
    "    Arguments :\n",
    "    - series : pd.Series, la série temporelle à modéliser.\n",
    "    \n",
    "    Retourne :\n",
    "    - Résultats du modèle ajusté.\n",
    "    \"\"\"\n",
    "    try:\n",
    "        # Calculer ∆Xt (différences premières de la série)\n",
    "        delta_Xt = series.diff().dropna()\n",
    "        \n",
    "        # Construire les variables explicatives :\n",
    "        # - Xt-1 : Décalage de la série originale\n",
    "        Xt_minus_1 = series.shift(1).dropna()\n",
    "        \n",
    "        # Construire le DataFrame sans constante\n",
    "        X = pd.DataFrame({\"Xt-1\": Xt_minus_1})\n",
    "        X = X.loc[delta_Xt.index]  # Aligner les index\n",
    "        \n",
    "        # Ajuster le modèle sans constante avec OLS\n",
    "        model = sm.OLS(delta_Xt, X, hasconst=False).fit()\n",
    "        \n",
    "        # Afficher le résumé des résultats\n",
    "        print(model.summary())\n",
    "        return model\n",
    "    except Exception as e:\n",
    "        print(f\"Erreur lors de la régression : {e}\")\n",
    "        return None\n",
    "\n",
    "# Exemple d'utilisation\n",
    "import numpy as np\n",
    "\n",
    "# Ajuster le modèle 1′\n",
    "resultat = regresser_modele_1(tm)\n",
    "\n"
   ]
  },
  {
   "cell_type": "markdown",
   "metadata": {},
   "source": [
    ". Conclusion\n",
    "P-valeur significative : p value < 0.05, nous rejetons H0\n",
    "​\n",
    " . Le coefficient 𝜙 est négatif et significatif (𝜙 = −0.0667).\n",
    "\n",
    "Série stationnaire :\n",
    "Ces résultats indiquent que la série est stationnaire, car il n’y a pas de racine unitaire."
   ]
  },
  {
   "cell_type": "markdown",
   "metadata": {},
   "source": [
    "### Test complémentaire"
   ]
  },
  {
   "cell_type": "code",
   "execution_count": 18,
   "metadata": {},
   "outputs": [
    {
     "name": "stdout",
     "output_type": "stream",
     "text": [
      "Test Dickey-Fuller Augmenté (ADF):\n",
      "Statistique de test : -3.5260\n",
      "p-value : 0.0073\n",
      "Valeurs critiques : {'1%': np.float64(-3.4368090295897624), '5%': np.float64(-2.864391734279673), '10%': np.float64(-2.5682883916134824)}\n",
      "=> La série est stationnaire (on rejette l'hypothèse nulle).\n",
      "\n",
      "Test KPSS:\n",
      "Statistique de test : 0.2457\n",
      "p-value : 0.1000\n",
      "Valeurs critiques : {'10%': 0.347, '5%': 0.463, '2.5%': 0.574, '1%': 0.739}\n",
      "=> La série est stationnaire (on ne rejette pas l'hypothèse nulle).\n"
     ]
    },
    {
     "name": "stderr",
     "output_type": "stream",
     "text": [
      "/tmp/ipykernel_112267/2478914011.py:20: InterpolationWarning: The test statistic is outside of the range of p-values available in the\n",
      "look-up table. The actual p-value is greater than the p-value returned.\n",
      "\n",
      "  result = kpss(series, regression='c')\n"
     ]
    }
   ],
   "source": [
    "import numpy as np\n",
    "import pandas as pd\n",
    "from statsmodels.tsa.stattools import adfuller, kpss\n",
    "\n",
    "\n",
    "# Test de Dickey-Fuller augmenté (ADF)\n",
    "def adf_test(series):\n",
    "    result = adfuller(series, autolag='AIC')\n",
    "    print(\"Test Dickey-Fuller Augmenté (ADF):\")\n",
    "    print(f\"Statistique de test : {result[0]:.4f}\")\n",
    "    print(f\"p-value : {result[1]:.4f}\")\n",
    "    print(f\"Valeurs critiques : {result[4]}\")\n",
    "    if result[1] < 0.05:\n",
    "        print(\"=> La série est stationnaire (on rejette l'hypothèse nulle).\")\n",
    "    else:\n",
    "        print(\"=> La série n'est pas stationnaire (on ne rejette pas l'hypothèse nulle).\")\n",
    "\n",
    "# Test KPSS\n",
    "def kpss_test(series):\n",
    "    result = kpss(series, regression='c')\n",
    "    print(\"\\nTest KPSS:\")\n",
    "    print(f\"Statistique de test : {result[0]:.4f}\")\n",
    "    print(f\"p-value : {result[1]:.4f}\")\n",
    "    print(f\"Valeurs critiques : {result[3]}\")\n",
    "    if result[1] > 0.05:\n",
    "        print(\"=> La série est stationnaire (on ne rejette pas l'hypothèse nulle).\")\n",
    "    else:\n",
    "        print(\"=> La série n'est pas stationnaire (on rejette l'hypothèse nulle).\")\n",
    "\n",
    "# Exécution des tests\n",
    "adf_test(df_standardise[\"TM\"])\n",
    "kpss_test(df_standardise[\"TM\"])"
   ]
  },
  {
   "cell_type": "markdown",
   "metadata": {},
   "source": [
    "### RAeprésentation de l'ACF et PACF"
   ]
  },
  {
   "cell_type": "code",
   "execution_count": 12,
   "metadata": {},
   "outputs": [
    {
     "data": {
      "image/png": "[encoded data removed]",
      "text/plain": [
       "<Figure size 1500x500 with 2 Axes>"
      ]
     },
     "metadata": {},
     "output_type": "display_data"
    }
   ],
   "source": [
    "# Tracer l'ACF et le PACF\n",
    "fig, axes = plt.subplots(1, 2, figsize=(15, 5))\n",
    "\n",
    "# Fonction d'autocorrélation (ACF)\n",
    "plot_acf(df_standardise[\"TM\"], lags=20, ax=axes[0])\n",
    "axes[0].set_title('ACF (Autocorrelation Function)')\n",
    "\n",
    "# Fonction d'autocorrélation partielle (PACF)\n",
    "plot_pacf(df_standardise[\"TM\"], lags=20, ax=axes[1], method='ywm')\n",
    "axes[1].set_title('PACF (Partial Autocorrelation Function)')\n",
    "\n",
    "plt.tight_layout()\n",
    "plt.show()"
   ]
  },
  {
   "cell_type": "markdown",
   "metadata": {},
   "source": [
    "### ACF et PACF en appliquant le modèle 1"
   ]
  },
  {
   "cell_type": "code",
   "execution_count": 13,
   "metadata": {},
   "outputs": [
    {
     "data": {
      "image/png": "[encoded data removed]",
      "text/plain": [
       "<Figure size 1500x500 with 2 Axes>"
      ]
     },
     "metadata": {},
     "output_type": "display_data"
    }
   ],
   "source": [
    "import matplotlib.pyplot as plt\n",
    "from statsmodels.graphics.tsaplots import plot_acf, plot_pacf\n",
    "\n",
    "# Calculer la série différenciée (Delta X_t)\n",
    "tm_diff = df_standardise[\"TM\"].diff().dropna()  # Différence première\n",
    "\n",
    "# Tracer l'ACF et le PACF de la série différenciée\n",
    "fig, axes = plt.subplots(1, 2, figsize=(15, 5))\n",
    "\n",
    "# Fonction d'autocorrélation (ACF)\n",
    "plot_acf(tm_diff, lags=20, ax=axes[0])\n",
    "axes[0].set_title('ACF (Autocorrelation Function) - Série différenciée')\n",
    "\n",
    "# Fonction d'autocorrélation partielle (PACF)\n",
    "plot_pacf(tm_diff, lags=20, ax=axes[1], method='ywm')  # \"ywm\" est robuste\n",
    "axes[1].set_title('PACF (Partial Autocorrelation Function) - Série différenciée')\n",
    "\n",
    "plt.tight_layout()\n",
    "plt.show()\n"
   ]
  }
 ],
 "metadata": {
  "kernelspec": {
   "display_name": "base",
   "language": "python",
   "name": "python3"
  },
  "language_info": {
   "codemirror_mode": {
    "name": "ipython",
    "version": 3
   },
   "file_extension": ".py",
   "mimetype": "text/x-python",
   "name": "python",
   "nbconvert_exporter": "python",
   "pygments_lexer": "ipython3",
   "version": "3.12.7"
  }
 },
 "nbformat": 4,
 "nbformat_minor": 2
}
