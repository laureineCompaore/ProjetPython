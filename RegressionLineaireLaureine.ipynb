{
 "cells": [
  {
   "cell_type": "markdown",
   "metadata": {},
   "source": []
  },
  {
   "cell_type": "code",
   "execution_count": 6,
   "metadata": {},
   "outputs": [],
   "source": [
    "from sklearn.ensemble import RandomForestRegressor\n",
    "from sklearn.metrics import accuracy_score, confusion_matrix, precision_score, recall_score, ConfusionMatrixDisplay\n",
    "from sklearn.model_selection import RandomizedSearchCV, train_test_split\n",
    "from sklearn.preprocessing import StandardScaler\n",
    "from scipy.stats import randint\n",
    "import fonctions as f\n",
    "\n",
    "#Bibliothèques pour la visualisation des arbres\n",
    "from sklearn.tree import export_graphviz\n",
    "from IPython.display import Image\n",
    "import graphviz\n",
    "import pandas as pd"
   ]
  },
  {
   "cell_type": "code",
   "execution_count": 34,
   "metadata": {},
   "outputs": [
    {
     "name": "stdout",
     "output_type": "stream",
     "text": [
      "              RR   TN     HTN    TX     HTX    TM   TMNX     DG  TAMPLI  \\\n",
      "DATE                                                                      \n",
      "2022-01-05   2.6 -0.4  1759.0   3.4  1217.0   0.9   1.50  389.0     3.8   \n",
      "2022-01-06   0.0 -2.5  1746.0   4.3  1327.0  -0.6   0.90  964.0     6.8   \n",
      "2022-01-07  10.0 -6.9   718.0   1.6  2229.0  -1.2  -2.65  674.0     8.5   \n",
      "2022-01-08  13.2 -0.7   733.0   6.3  2319.0   2.4   2.80   87.0     7.0   \n",
      "2022-01-09   7.6  0.4   737.0   2.2   601.0   1.8   1.30    0.0     1.8   \n",
      "...          ...  ...     ...   ...     ...   ...    ...    ...     ...   \n",
      "2024-10-27   0.2  5.7   633.0  21.9  1354.0  13.3  13.80    0.0    16.2   \n",
      "2024-10-28   0.2  6.7   546.0  21.9  1236.0  12.6  14.30    0.0    15.2   \n",
      "2024-10-29   0.4  6.4  2251.0  21.7  1236.0  12.0  14.05    0.0    15.3   \n",
      "2024-10-30   0.2  4.9   632.0  21.8  1253.0  11.0  13.35    0.0    16.9   \n",
      "2024-10-31   0.0  2.9   657.0  20.2  1341.0   9.4  11.55    0.0    17.3   \n",
      "\n",
      "            TNTXM  ...     HUN     UX     HUX  DHUMI40  DHUMI80  TSVM    UM  \\\n",
      "DATE               ...                                                        \n",
      "2022-01-05    1.5  ...  1244.0   99.0   329.0      0.0   1157.0   5.7  88.0   \n",
      "2022-01-06    0.9  ...  1032.0   99.0  2304.0      0.0   1043.0   5.1  88.0   \n",
      "2022-01-07   -2.7  ...   708.0   99.0   126.0      0.0   1440.0   5.4  96.0   \n",
      "2022-01-08    2.8  ...  1403.0   99.0   618.0      0.0   1231.0   6.4  89.0   \n",
      "2022-01-09    1.3  ...     3.0   98.0   745.0      0.0   1440.0   6.5  94.0   \n",
      "...           ...  ...     ...    ...     ...      ...      ...   ...   ...   \n",
      "2024-10-27   13.8  ...  1344.0  100.0   646.0      0.0    974.0  12.6  84.0   \n",
      "2024-10-28   14.3  ...  1346.0  100.0   657.0      0.0    973.0  12.4  86.0   \n",
      "2024-10-29   14.1  ...  1226.0  100.0     1.0      0.0   1046.0  12.1  88.0   \n",
      "2024-10-30   13.4  ...  1200.0  100.0     1.0      0.0   1022.0  11.1  87.0   \n",
      "2024-10-31   11.6  ...  1330.0  100.0    14.0      0.0   1001.0  10.3  88.0   \n",
      "\n",
      "            ETPGRILLE  NEIGETOTX  NEIGETOT06  \n",
      "DATE                                          \n",
      "2022-01-05        0.4        0.0         0.0  \n",
      "2022-01-06        0.6        0.0         0.0  \n",
      "2022-01-07        0.0        0.0         0.0  \n",
      "2022-01-08        0.5        0.0         0.0  \n",
      "2022-01-09        0.1        0.0         0.0  \n",
      "...               ...        ...         ...  \n",
      "2024-10-27        1.1        0.0         0.0  \n",
      "2024-10-28        1.3        0.0         0.0  \n",
      "2024-10-29        1.1        0.0         0.0  \n",
      "2024-10-30        1.2        0.0         0.0  \n",
      "2024-10-31        1.2        0.0         0.0  \n",
      "\n",
      "[1022 rows x 30 columns]\n"
     ]
    }
   ],
   "source": [
    "#on divise la base en partie test et en partie entraînement\n",
    "data= f.pd.read_csv(\"dataMod.csv\", index_col =[\"DATE\"])\n",
    "print(data)\n"
   ]
  },
  {
   "cell_type": "markdown",
   "metadata": {},
   "source": [
    "Etant donné la structure de données nous allons effectuer la standardisation des variables qui est une technique utilisée en traitement des données pour mettre toutes les variables sur une même échelle. Cela consiste à transformer les données de sorte que chaque variable ait une moyenne de 0 et un écart-type de 1."
   ]
  },
  {
   "cell_type": "code",
   "execution_count": 45,
   "metadata": {},
   "outputs": [],
   "source": [
    "y = data[\"TM\"]\n",
    "X = data.drop(columns=[\"TM\"])\n",
    "\n",
    "\n",
    "# Standardisation des colonnes restantes\n",
    "scaler = StandardScaler()\n",
    "X_scaled = scaler.fit_transform(X)\n",
    "\n",
    "# Reconstruire la DataFrame avec la colonne non standardisée\n",
    "data_scal = pd.DataFrame(X_scaled, columns=X.columns, index=data.index)\n",
    "data_scal[\"TM\"]= y"
   ]
  },
  {
   "cell_type": "code",
   "execution_count": 51,
   "metadata": {},
   "outputs": [],
   "source": [
    "train_size = int(len(data_scal) * 0.8)\n",
    "train, test = data_scal[:train_size], data_scal[train_size:]\n",
    "\n",
    "# On divisie la base train en une partie contenant les variables explicatives et la variable d'interêt\n",
    "x_train=train.drop('TM',axis=1)\n",
    "TM_train=train['TM']\n",
    "# On divisie la base test en une partie contenant les variables explicatives et la variable d'interêt\n",
    "x_test=test.drop('TM',axis=1)\n",
    "TM_test=test['TM']"
   ]
  },
  {
   "cell_type": "code",
   "execution_count": 52,
   "metadata": {},
   "outputs": [
    {
     "data": {
      "text/plain": [
       "((817, 29), (205, 29), (817,), (205,))"
      ]
     },
     "execution_count": 52,
     "metadata": {},
     "output_type": "execute_result"
    }
   ],
   "source": [
    "x_train.shape,x_test.shape,TM_train.shape,TM_test.shape"
   ]
  },
  {
   "cell_type": "code",
   "execution_count": null,
   "metadata": {},
   "outputs": [],
   "source": []
  }
 ],
 "metadata": {
  "kernelspec": {
   "display_name": "base",
   "language": "python",
   "name": "python3"
  },
  "language_info": {
   "codemirror_mode": {
    "name": "ipython",
    "version": 3
   },
   "file_extension": ".py",
   "mimetype": "text/x-python",
   "name": "python",
   "nbconvert_exporter": "python",
   "pygments_lexer": "ipython3",
   "version": "3.12.7"
  }
 },
 "nbformat": 4,
 "nbformat_minor": 2
}
