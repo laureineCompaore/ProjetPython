{
 "cells": [
  {
   "cell_type": "markdown",
   "metadata": {},
   "source": [
    "# Création d'un tableau contenant les differents packages, leurs vers versions, et leurs licences dans le fichier LICENSE"
   ]
  },
  {
   "cell_type": "code",
   "execution_count": 25,
   "metadata": {},
   "outputs": [
    {
     "name": "stdout",
     "output_type": "stream",
     "text": [
      "Le tableau a été écrit dans le fichier LICENSE.\n"
     ]
    }
   ],
   "source": [
    "# Définir les données du tableau\n",
    "tableau = [\n",
    "    ['Noms', 'Versions', 'Licences'],\n",
    "    ['','',''],\n",
    "    ['Numpy', '2.0.2', 'Copyright (c) 2005-2024, NumPy Developers'],\n",
    "    ['python-dotenv', '1.0.1', 'BSD-3-Clause'],\n",
    "    ['requests', '2.32.3', 'License: Apache-2.0'],\n",
    "    ['pandas', '2.2.3', 'BSD 3-Clause License'],\n",
    "    ['geopandas', '1.0.1', 'BSD 3-Clause'],\n",
    "    ['seaborn', '0.13.2', '--'],\n",
    "    ['folium', '0.19.2', 'MIT'],\n",
    "    ['matplotlib', '3.10.0', 'License agreement for matplotlib versions 1.3.0 and later'],\n",
    "    ['scikit-learn', '1.6.0', 'BSD 3-Clause License'],\n",
    "    ['statsmodels', '0.14.4', 'BSD License'],\n",
    "    ['tensorflow', '2.18.0', 'Apache 2.0']\n",
    "\n",
    "]\n",
    "\n",
    "# Ouvrir le fichier LICENSE en mode écriture\n",
    "with open('LICENSE', 'w') as file:\n",
    "    # Définir la largeur du fichier\n",
    "    largeur_fichier = 100\n",
    "\n",
    "    # Le texte à centrer\n",
    "    titre = \"Tableau des Packages\"\n",
    "\n",
    "    # Calculer les espaces avant et après le titre pour le centrer\n",
    "    espaces_avant = (largeur_fichier - len(titre)) // 2\n",
    "    espaces_apres = largeur_fichier - len(titre) - espaces_avant\n",
    "\n",
    "    # Ajouter le titre centré dans le fichier\n",
    "    file.write(\" \" * espaces_avant + titre + \" \" * espaces_apres + \"\\n\")\n",
    "    file.write(\"=\" * largeur_fichier + \"\\n\\n\")\n",
    "    \n",
    "    # Calculer la largeur des colonnes du tableau\n",
    "    max_lengths = [max(len(str(cell)) for cell in column) for column in zip(*tableau)]\n",
    "\n",
    "    # Ajouter un espace de séparation\n",
    "    file.write(\"\\n\")\n",
    "    \n",
    "    # Écrire chaque ligne du tableau avec les colonnes centrées\n",
    "    for ligne in tableau:\n",
    "        # Formater chaque élément pour qu'il soit centré dans sa colonne\n",
    "        formatted_line = \"  \".join(f\"{str(ligne[i]).center(max_lengths[i])}\" for i in range(len(ligne)))\n",
    "        # Calculer les espaces avant et après pour centrer la ligne entière\n",
    "        espaces_avant = (largeur_fichier - len(formatted_line)) // 2\n",
    "        file.write(\" \" * espaces_avant + formatted_line + \"\\n\")\n",
    "\n",
    "    file.write(\"\\n\")\n",
    "    # Écrire le message dans le fichier\n",
    "    file.write(\"Ce tableau nous informe sur les versions et les licences des packages pour lesquelles ces derniers sont disponibles.\\n\")\n",
    "\n",
    "print(\"Le tableau a été écrit dans le fichier LICENSE.\")\n"
   ]
  },
  {
   "cell_type": "markdown",
   "metadata": {},
   "source": [
    "Pour connaitre les versions et des differents packages utilisés, on a utilisé la syntaxe:\n",
    "\n",
    "**pip show nom_du_package.**"
   ]
  }
 ],
 "metadata": {
  "kernelspec": {
   "display_name": "base",
   "language": "python",
   "name": "python3"
  },
  "language_info": {
   "codemirror_mode": {
    "name": "ipython",
    "version": 3
   },
   "file_extension": ".py",
   "mimetype": "text/x-python",
   "name": "python",
   "nbconvert_exporter": "python",
   "pygments_lexer": "ipython3",
   "version": "3.12.7"
  }
 },
 "nbformat": 4,
 "nbformat_minor": 2
}
